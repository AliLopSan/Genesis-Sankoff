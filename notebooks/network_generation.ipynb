{
 "cells": [
  {
   "cell_type": "markdown",
   "id": "fe4bbe79-0cba-48a4-8153-11ba7ccc6da0",
   "metadata": {},
   "source": [
    "# How to generate tree-based networks\n",
    "This notebook generates three tree-based networks "
   ]
  },
  {
   "cell_type": "code",
   "execution_count": 1,
   "id": "0971dad7-60c7-45a0-9b92-b5c6fea6c4c1",
   "metadata": {},
   "outputs": [],
   "source": [
    "import pandas as pd\n",
    "import ast\n",
    "import numpy as np\n",
    "from treebased import TB_Network\n",
    "import matrix as mx\n",
    "import pickle as pkl\n",
    "import tools as ts"
   ]
  },
  {
   "cell_type": "markdown",
   "id": "5a46b6ea-ab03-4abe-ac10-4ea61bfe757b",
   "metadata": {},
   "source": [
    "## General Input for all three methods\n",
    "Regardless of the method, you will need a species tree and a KO list. The species tree and the KO list is the same for all methods. The KO list is cut because creating the 180 matrix from requests from the KEGG database on one shot was too long. This is artisanal paralellism :P\n",
    "\n",
    "### General Input data\n",
    "\n",
    "All analysis folders contain the same input data. We'll gra Fitch just because :)\n",
    "The input matrix is a matrix already built from the KEGG orthology database by using the function\"generate_from_KEGG_v1\" from \"matrix.py\" in the source files."
   ]
  },
  {
   "cell_type": "code",
   "execution_count": 5,
   "id": "dff5e010-82a8-4b9d-ab40-ae17c432893b",
   "metadata": {},
   "outputs": [],
   "source": [
    "#All analysis folders contain the same input data. \n",
    "#We'll grab Fitch just because it's the first\n",
    "input_path = \"../data/fitch_labeling_analysis/input_data/\"\n",
    "\n",
    "#Import Species Tree\n",
    "sname = input_path + \"species_tree_ultra.pkl\"\n",
    "f = open(sname,\"rb\")\n",
    "S = pkl.load(f)\n",
    "f.close()\n",
    "\n",
    "#Import KO list\n",
    "koname = input_path + \"ARG_related_KOs.csv\"\n",
    "KO_df = pd.read_csv(koname)\n",
    "KOs_list = list(KO_df['RF_KO'])\n",
    "matrix = [KOs_list[i:i+45] for i in range(0,len(KOs_list),45)]\n",
    "\n",
    "#Testing with the first chunk of the matrix\n",
    "i = 0\n",
    "chunk = matrix[i]\n",
    "mname = \"../data/KO_matrices/interphylum_matrix_chunk_\" + str(i) + \".pkl\" \n",
    "file = open(mname,\"rb\")\n",
    "m = pkl.load(file)\n",
    "file.close()\n"
   ]
  },
  {
   "cell_type": "markdown",
   "id": "d02e118b-66c2-4aaf-87a5-274a8f909447",
   "metadata": {},
   "source": [
    "### Fitch network\n",
    "In this network, no cost matrix is required. "
   ]
  },
  {
   "cell_type": "code",
   "execution_count": 6,
   "id": "3eb46b9b-c94e-480f-b9ec-0628a94be79f",
   "metadata": {},
   "outputs": [],
   "source": [
    "#Initialize Fitch network\n",
    "fitch_Network = TB_Network(S.root)\n",
    "fitch_Network.init_base_from_tralda(S,len(chunk))\n",
    "\n",
    "#Assigns characters to the leaves\n",
    "for leaf in fitch_Network.leaves():\n",
    "    leaf.chars = m[leaf.label]\n",
    "\n",
    "#Computes the Fitch labeling\n",
    "fitch_Network.fitch_labeling()\n",
    "\n",
    "#Gets list of first-appearances\n",
    "Fitch_FAs = fitch_Network.get_fas_by_state_change()"
   ]
  },
  {
   "cell_type": "markdown",
   "id": "27732e7e-9302-4d60-8485-7c5582b0b625",
   "metadata": {},
   "source": [
    "### Important! cost matrix required for Sankoff and Genesis"
   ]
  },
  {
   "cell_type": "code",
   "execution_count": null,
   "id": "1a149d99-c31c-4d76-ac08-2f69cc3ae8e5",
   "metadata": {},
   "outputs": [],
   "source": [
    "#Event transition cost for Sankoff and Genesis\n",
    "loss_cost = 1.0\n",
    "transfer_cost = 1.0"
   ]
  },
  {
   "cell_type": "markdown",
   "id": "9bddf58f-c869-484d-9ca4-ba115487a54c",
   "metadata": {},
   "source": [
    "### Sankoff network"
   ]
  },
  {
   "cell_type": "code",
   "execution_count": 3,
   "id": "3951634f-edb5-4142-823b-47a996d2aa18",
   "metadata": {},
   "outputs": [],
   "source": [
    "#Initialize Sankoff network\n",
    "san_Network = TB_Network(S.root)\n",
    "san_Network.init_base_from_tralda(S,len(chunk))\n",
    "\n",
    "for leaf in san_Network.leaves():\n",
    "    leaf.chars = m[leaf.label]\n",
    "\n",
    "san_Network.sankoff_labeling(loss_cost,transfer_cost)\n",
    "\n",
    "#Gets list of first-appearances\n",
    "Sankoff_FAs = san_Network.get_fas_by_state_change()"
   ]
  },
  {
   "cell_type": "markdown",
   "id": "238fdeda-9353-4787-a844-0f4a359cb795",
   "metadata": {},
   "source": [
    "### Genesis network"
   ]
  },
  {
   "cell_type": "code",
   "execution_count": 4,
   "id": "3c7402cf-34c7-4fe2-b7ab-2d6bdb4bf149",
   "metadata": {},
   "outputs": [],
   "source": [
    "#Initialize Genesis network\n",
    "gen_Network = TB_Network(S.root)\n",
    "gen_Network.init_base_from_tralda(S,len(chunk))\n",
    "\n",
    "#Assign characters to leaves\n",
    "for leaf in gen_Network.leaves():\n",
    "    leaf.chars = m[leaf.label]\n",
    "    \n",
    "gen_Network.genesis_labeling(loss_cost,transfer_cost)"
   ]
  },
  {
   "cell_type": "markdown",
   "id": "0ca30385-a8bb-492a-8738-d1faba23c38a",
   "metadata": {},
   "source": [
    "## How to get a greedy list of first appearances\n",
    "\n",
    "It suffices to run the following function. This function sorts the first appearances acoording to a suitable timing, which is what a greedy algorithm that joins them would do :)"
   ]
  },
  {
   "cell_type": "code",
   "execution_count": 10,
   "id": "d6fe8659-bf0f-4f60-895e-5b0d1add4ba1",
   "metadata": {},
   "outputs": [
    {
     "name": "stdout",
     "output_type": "stream",
     "text": [
      "For Fitch:\n",
      "  characters                                            fa_list\n",
      "0     K02257  [Pseudomonadota, Micrococcales, Mycobacteriale...\n",
      "1     K02274  [Pseudomonadota, Micrococcales, Mycobacteriale...\n",
      "2     K02259  [Pseudomonadota, Micrococcales, Mycobacteriale...\n",
      "3     K02275  [Pseudomonadota, Micrococcales, Mycobacteriale...\n",
      "4     K01772  [Campylobacterales, Pseudomonadota, Micrococca...\n",
      "For Sankoff:\n",
      "  characters                                            fa_list\n",
      "0     K02257    [Pseudomonadota, Actinomycetes, Staphylococcus]\n",
      "1     K02274                    [Pseudomonadota, Actinomycetes]\n",
      "2     K02259    [Pseudomonadota, Actinomycetes, Staphylococcus]\n",
      "3     K02275                    [Pseudomonadota, Actinomycetes]\n",
      "4     K01772  [Campylobacterales, Actinomycetota, Pseudomona...\n",
      "For Genesis:\n",
      "  characters                                            fa_list\n",
      "0     K02257   [Actinomycetota, Pseudomonadota, Staphylococcus]\n",
      "1     K02274                    [Pseudomonadota, Actinomycetes]\n",
      "2     K02259   [Actinomycetota, Pseudomonadota, Staphylococcus]\n",
      "3     K02275                    [Pseudomonadota, Actinomycetes]\n",
      "4     K01772  [Campylobacterales, Actinomycetota, Pseudomona...\n"
     ]
    }
   ],
   "source": [
    "#How to get a sorted list of first appearances\n",
    "def get_greedy_FA_list(Network,ko_list):\n",
    "    def _sort_fas(fa_list):\n",
    "            return(sorted(fa_list, key = lambda x:x.tstamp,reverse=True))\n",
    "    fa_set  = []\n",
    "    fa_dict = Network.get_fas_by_state_change()\n",
    "\n",
    "    for char in fa_dict:\n",
    "        fas = list(fa_dict[char])\n",
    "        fa_dict[char] = _sort_fas(fas)\n",
    "        fa_set.append(fa_dict[char])\n",
    "    df = pd.DataFrame()\n",
    "    df['characters'] = ko_list\n",
    "    df['fa_list'] = fa_set\n",
    "    return(df)\n",
    "\n",
    "#IDs of the involved KOs (cause we separated them into chunks)\n",
    "KOs = KOs_list[i:i+45]\n",
    "\n",
    "Fitch_data = get_greedy_FA_list(fitch_Network,KOs)\n",
    "Sankoff_data = get_greedy_FA_list(san_Network,KOs)\n",
    "Genesis_data = get_greedy_FA_list(gen_Network,KOs)\n",
    "\n",
    "\n",
    "print(\"For Fitch:\")\n",
    "print(Fitch_data.head())\n",
    "\n",
    "print(\"For Sankoff:\")\n",
    "print(Sankoff_data.head())\n",
    "\n",
    "print(\"For Genesis:\")\n",
    "print(Genesis_data.head())\n",
    "    "
   ]
  }
 ],
 "metadata": {
  "kernelspec": {
   "display_name": "Python 3 (ipykernel)",
   "language": "python",
   "name": "python3"
  },
  "language_info": {
   "codemirror_mode": {
    "name": "ipython",
    "version": 3
   },
   "file_extension": ".py",
   "mimetype": "text/x-python",
   "name": "python",
   "nbconvert_exporter": "python",
   "pygments_lexer": "ipython3",
   "version": "3.13.5"
  }
 },
 "nbformat": 4,
 "nbformat_minor": 5
}
